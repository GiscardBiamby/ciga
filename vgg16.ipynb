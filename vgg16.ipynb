{
 "cells": [
  {
   "cell_type": "code",
   "execution_count": 18,
   "metadata": {},
   "outputs": [],
   "source": [
    "import tensorflow\n",
    "import numpy as np\n",
    "from keras.models import Model\n",
    "from keras.preprocessing.image import ImageDataGenerator\n",
    "from keras.models import Sequential\n",
    "from keras.layers import Input, Dense, Activation, Conv2D, MaxPooling2D"
   ]
  },
  {
   "cell_type": "code",
   "execution_count": 19,
   "metadata": {},
   "outputs": [],
   "source": [
    "image_size = 224\n"
   ]
  },
  {
   "cell_type": "code",
   "execution_count": 20,
   "metadata": {},
   "outputs": [],
   "source": [
    "def getModel_vgg16(image_size):\n",
    "    ## VGG16 architecture: https://arxiv.org/pdf/1409.1556.pdf\n",
    "    ## Also may be able to use VGG-Face pre-trained weights. Not sure if the VGG-Face\n",
    "    ## architecture is the same as the VGG-16. \n",
    "    ## Note: if the architectures don't match, they probably only differ by a small \n",
    "    ## amount, so we can probably create a separate VGG-Face model based on our VGG16\n",
    "    ## and then use the weights from Oxford: http://www.robots.ox.ac.uk/~vgg/software/vgg_face/ \n",
    "    \n",
    "    # This implementation is based on Configuration D from page 3 of 1409.1556.pdf, so 16 weight layers total: \n",
    "    \n",
    "    # Input (image): \n",
    "    # Note, I read somewhere that for tensorflow the order matters for performance, so check if this should be (1, img_size, img_size) instead? \n",
    "    image_input = Input(shape=(image_size, image_size, 1))\n",
    "    \n",
    "    # Group 1: \n",
    "    x = Conv2D(filters=64, kernel_size=(3, 3) strides=(1,1), activation=\"relu\")(image_input)\n",
    "    x = Conv2D(filters=64, kernel_size=(3, 3), strides=(1,1), activation=\"relu\")(x)\n",
    "    x = MaxPooling2D(pool_size=(2, 2), strides=(2, 2))(x)\n",
    "    \n",
    "    # Group 2: \n",
    "    x = Conv2D(filters=128, kernel_size=(3, 3), strides=(1,1), activation=\"relu\")(x)\n",
    "    x = Conv2D(filters=128, kernel_size=(3, 3), strides=(1,1), activation=\"relu\")(x)\n",
    "    x = MaxPooling2D(pool_size=(2, 2), strides=(2, 2))(x)\n",
    "        \n",
    "    # Group 3: \n",
    "    x = Conv2D(filters=256, kernel_size=(3, 3), strides=(1,1), activation=\"relu\")(x)\n",
    "    x = Conv2D(filters=256, kernel_size=(3, 3), strides=(1,1), activation=\"relu\")(x)\n",
    "    x = Conv2D(filters=256, kernel_size=(3, 3), strides=(1,1), activation=\"relu\")(x)\n",
    "    x = MaxPooling2D(pool_size=(2, 2), strides=(2, 2))(x)\n",
    "        \n",
    "    # Group 4: \n",
    "    x = Conv2D(filters=512, kernel_size=(3, 3), strides=(1,1), activation=\"relu\")(x)\n",
    "    x = Conv2D(filters=512, kernel_size=(3, 3), strides=(1,1), activation=\"relu\")(x)\n",
    "    x = Conv2D(filters=512, kernel_size=(3, 3), strides=(1,1), activation=\"relu\")(x)\n",
    "    x = MaxPooling2D(pool_size=(2, 2), strides=(2, 2))(x)\n",
    "        \n",
    "    # Group 5:\n",
    "    x = Conv2D(filters=512, kernel_size=(3, 3), strides=(1,1), activation=\"relu\")(x)\n",
    "    x = Conv2D(filters=512, kernel_size=(3, 3), strides=(1,1), activation=\"relu\")(x)\n",
    "    x = Conv2D(filters=512, kernel_size=(3, 3), strides=(1,1), activation=\"relu\")(x)\n",
    "    x = MaxPooling2D(pool_size=(2, 2), strides=(2, 2))(x)\n",
    "    \n",
    "    # Final weight layers:\n",
    "    x = Dense(units=4096)(x)\n",
    "    x = Dense(units=4096)(x)\n",
    "    \n",
    "    # Original implementation has the following, but we don't want these here, since our task is different: \n",
    "    #Dense(units=1000)(x)\n",
    "    # Softmax()\n",
    "    \n",
    "    return x\n",
    "    pass\n"
   ]
  },
  {
   "cell_type": "code",
   "execution_count": 21,
   "metadata": {},
   "outputs": [
    {
     "ename": "TypeError",
     "evalue": "__init__() missing 2 required positional arguments: 'filters' and 'kernel_size'",
     "output_type": "error",
     "traceback": [
      "\u001b[0;31m---------------------------------------------------------------------------\u001b[0m",
      "\u001b[0;31mTypeError\u001b[0m                                 Traceback (most recent call last)",
      "\u001b[0;32m<ipython-input-21-2ad5fbd05b9a>\u001b[0m in \u001b[0;36m<module>\u001b[0;34m()\u001b[0m\n\u001b[0;32m----> 1\u001b[0;31m \u001b[0mmodel\u001b[0m \u001b[0;34m=\u001b[0m \u001b[0mgetModel_vgg16\u001b[0m\u001b[0;34m(\u001b[0m\u001b[0mimage_size\u001b[0m\u001b[0;34m)\u001b[0m\u001b[0;34m\u001b[0m\u001b[0m\n\u001b[0m",
      "\u001b[0;32m<ipython-input-20-194a1cdd6299>\u001b[0m in \u001b[0;36mgetModel_vgg16\u001b[0;34m(image_size)\u001b[0m\n\u001b[1;32m     12\u001b[0m     \u001b[0mimg_input\u001b[0m \u001b[0;34m=\u001b[0m \u001b[0mInput\u001b[0m\u001b[0;34m(\u001b[0m\u001b[0mshape\u001b[0m\u001b[0;34m=\u001b[0m\u001b[0;34m(\u001b[0m\u001b[0mimage_size\u001b[0m\u001b[0;34m,\u001b[0m \u001b[0mimage_size\u001b[0m\u001b[0;34m)\u001b[0m\u001b[0;34m)\u001b[0m\u001b[0;34m\u001b[0m\u001b[0m\n\u001b[1;32m     13\u001b[0m \u001b[0;34m\u001b[0m\u001b[0m\n\u001b[0;32m---> 14\u001b[0;31m     \u001b[0mConv2D\u001b[0m\u001b[0;34m(\u001b[0m\u001b[0;34m)\u001b[0m\u001b[0;34m\u001b[0m\u001b[0m\n\u001b[0m\u001b[1;32m     15\u001b[0m \u001b[0;34m\u001b[0m\u001b[0m\n\u001b[1;32m     16\u001b[0m     \u001b[0;32mreturn\u001b[0m \u001b[0mDense\u001b[0m\u001b[0;34m(\u001b[0m\u001b[0;36m1\u001b[0m\u001b[0;34m,\u001b[0m \u001b[0mactivation\u001b[0m\u001b[0;34m=\u001b[0m\u001b[0;34m'sigmoid'\u001b[0m\u001b[0;34m,\u001b[0m \u001b[0mname\u001b[0m\u001b[0;34m=\u001b[0m\u001b[0;34m'main_output'\u001b[0m\u001b[0;34m)\u001b[0m\u001b[0;34m(\u001b[0m\u001b[0mx\u001b[0m\u001b[0;34m)\u001b[0m\u001b[0;34m\u001b[0m\u001b[0m\n",
      "\u001b[0;32m~/anaconda3/envs/ciga/lib/python3.6/site-packages/keras/legacy/interfaces.py\u001b[0m in \u001b[0;36mwrapper\u001b[0;34m(*args, **kwargs)\u001b[0m\n\u001b[1;32m     89\u001b[0m                 warnings.warn('Update your `' + object_name +\n\u001b[1;32m     90\u001b[0m                               '` call to the Keras 2 API: ' + signature, stacklevel=2)\n\u001b[0;32m---> 91\u001b[0;31m             \u001b[0;32mreturn\u001b[0m \u001b[0mfunc\u001b[0m\u001b[0;34m(\u001b[0m\u001b[0;34m*\u001b[0m\u001b[0margs\u001b[0m\u001b[0;34m,\u001b[0m \u001b[0;34m**\u001b[0m\u001b[0mkwargs\u001b[0m\u001b[0;34m)\u001b[0m\u001b[0;34m\u001b[0m\u001b[0m\n\u001b[0m\u001b[1;32m     92\u001b[0m         \u001b[0mwrapper\u001b[0m\u001b[0;34m.\u001b[0m\u001b[0m_original_function\u001b[0m \u001b[0;34m=\u001b[0m \u001b[0mfunc\u001b[0m\u001b[0;34m\u001b[0m\u001b[0m\n\u001b[1;32m     93\u001b[0m         \u001b[0;32mreturn\u001b[0m \u001b[0mwrapper\u001b[0m\u001b[0;34m\u001b[0m\u001b[0m\n",
      "\u001b[0;31mTypeError\u001b[0m: __init__() missing 2 required positional arguments: 'filters' and 'kernel_size'"
     ]
    }
   ],
   "source": [
    "model = getModel_vgg16(image_size)\n"
   ]
  },
  {
   "cell_type": "code",
   "execution_count": null,
   "metadata": {},
   "outputs": [],
   "source": [
    "\n"
   ]
  },
  {
   "cell_type": "code",
   "execution_count": null,
   "metadata": {},
   "outputs": [],
   "source": []
  },
  {
   "cell_type": "code",
   "execution_count": null,
   "metadata": {},
   "outputs": [],
   "source": []
  },
  {
   "cell_type": "code",
   "execution_count": null,
   "metadata": {},
   "outputs": [],
   "source": []
  }
 ],
 "metadata": {
  "kernelspec": {
   "display_name": "Python 3",
   "language": "python",
   "name": "python3"
  },
  "language_info": {
   "codemirror_mode": {
    "name": "ipython",
    "version": 3
   },
   "file_extension": ".py",
   "mimetype": "text/x-python",
   "name": "python",
   "nbconvert_exporter": "python",
   "pygments_lexer": "ipython3",
   "version": "3.6.0"
  }
 },
 "nbformat": 4,
 "nbformat_minor": 2
}
