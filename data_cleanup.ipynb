{
 "cells": [
  {
   "cell_type": "code",
   "execution_count": null,
   "metadata": {
    "collapsed": true
   },
   "outputs": [],
   "source": [
    "import os\n",
    "import numpy as np\n",
    "from scipy import io as sio\n",
    "import pandas as pd\n",
    "from shutil import copyfile"
   ]
  },
  {
   "cell_type": "code",
   "execution_count": null,
   "metadata": {
    "collapsed": true
   },
   "outputs": [],
   "source": [
    "raw = sio.loadmat('./datasets/raw/wiki/wiki/wiki.mat')"
   ]
  },
  {
   "cell_type": "code",
   "execution_count": null,
   "metadata": {},
   "outputs": [],
   "source": [
    "type(raw)"
   ]
  },
  {
   "cell_type": "code",
   "execution_count": null,
   "metadata": {},
   "outputs": [],
   "source": [
    "raw.keys()"
   ]
  },
  {
   "cell_type": "code",
   "execution_count": null,
   "metadata": {
    "collapsed": true
   },
   "outputs": [],
   "source": [
    "raw = raw['wiki']"
   ]
  },
  {
   "cell_type": "code",
   "execution_count": null,
   "metadata": {},
   "outputs": [],
   "source": [
    "type(raw)"
   ]
  },
  {
   "cell_type": "code",
   "execution_count": null,
   "metadata": {},
   "outputs": [],
   "source": [
    "raw.shape"
   ]
  },
  {
   "cell_type": "code",
   "execution_count": null,
   "metadata": {
    "collapsed": true
   },
   "outputs": [],
   "source": []
  },
  {
   "cell_type": "code",
   "execution_count": null,
   "metadata": {
    "collapsed": true
   },
   "outputs": [],
   "source": []
  },
  {
   "cell_type": "code",
   "execution_count": null,
   "metadata": {
    "collapsed": true
   },
   "outputs": [],
   "source": [
    "raw = raw[0][0]"
   ]
  },
  {
   "cell_type": "code",
   "execution_count": null,
   "metadata": {},
   "outputs": [],
   "source": [
    "type(raw)"
   ]
  },
  {
   "cell_type": "code",
   "execution_count": null,
   "metadata": {},
   "outputs": [],
   "source": [
    "raw.shape"
   ]
  },
  {
   "cell_type": "code",
   "execution_count": null,
   "metadata": {},
   "outputs": [],
   "source": [
    "len(raw)"
   ]
  },
  {
   "cell_type": "code",
   "execution_count": null,
   "metadata": {
    "collapsed": true
   },
   "outputs": [],
   "source": [
    "data = []\n",
    "for i in raw:\n",
    "    data.append(i)\n",
    "data = np.array(data)"
   ]
  },
  {
   "cell_type": "code",
   "execution_count": null,
   "metadata": {},
   "outputs": [],
   "source": [
    "data.shape"
   ]
  },
  {
   "cell_type": "code",
   "execution_count": null,
   "metadata": {
    "collapsed": true
   },
   "outputs": [],
   "source": [
    "data = data.squeeze()"
   ]
  },
  {
   "cell_type": "code",
   "execution_count": null,
   "metadata": {},
   "outputs": [],
   "source": [
    "data.shape"
   ]
  },
  {
   "cell_type": "code",
   "execution_count": null,
   "metadata": {},
   "outputs": [],
   "source": [
    "data = data.T\n",
    "data.shape"
   ]
  },
  {
   "cell_type": "code",
   "execution_count": null,
   "metadata": {
    "collapsed": true
   },
   "outputs": [],
   "source": [
    "df = pd.DataFrame(data)\n",
    "df.columns = ['dob', 'photo_taken', 'full_path', 'gender', 'name', 'face_location', 'face_score', 'second_face_score']"
   ]
  },
  {
   "cell_type": "code",
   "execution_count": null,
   "metadata": {
    "collapsed": true
   },
   "outputs": [],
   "source": [
    "df = df[df['face_score'] != float('-inf')]"
   ]
  },
  {
   "cell_type": "code",
   "execution_count": null,
   "metadata": {
    "collapsed": true,
    "scrolled": false
   },
   "outputs": [],
   "source": [
    "df = df.dropna(subset=['gender'])"
   ]
  },
  {
   "cell_type": "code",
   "execution_count": null,
   "metadata": {
    "collapsed": true,
    "scrolled": false
   },
   "outputs": [],
   "source": [
    "df = df[pd.isnull(df['second_face_score'])]"
   ]
  },
  {
   "cell_type": "code",
   "execution_count": null,
   "metadata": {
    "collapsed": true,
    "scrolled": false
   },
   "outputs": [],
   "source": [
    "from datetime import datetime, timedelta\n",
    "def mat_date_convert(mat_date):\n",
    "    return (timedelta(days=mat_date -366)+datetime(1,1,1)).year"
   ]
  },
  {
   "cell_type": "code",
   "execution_count": null,
   "metadata": {
    "collapsed": true
   },
   "outputs": [],
   "source": []
  },
  {
   "cell_type": "code",
   "execution_count": null,
   "metadata": {
    "collapsed": true
   },
   "outputs": [],
   "source": [
    "df['age'] = df['photo_taken'] - df['dob'].apply(mat_date_convert)"
   ]
  },
  {
   "cell_type": "code",
   "execution_count": null,
   "metadata": {
    "collapsed": true,
    "scrolled": false
   },
   "outputs": [],
   "source": [
    "proccesed_data = df[['full_path', 'gender', 'age']]"
   ]
  },
  {
   "cell_type": "code",
   "execution_count": null,
   "metadata": {},
   "outputs": [],
   "source": [
    "proccesed_data"
   ]
  },
  {
   "cell_type": "code",
   "execution_count": null,
   "metadata": {
    "collapsed": true
   },
   "outputs": [],
   "source": [
    "# Makes un-eqal sized samples for males and females, probably better to use next block\n",
    "# To run again uncomment\n",
    "\n",
    "# female_path = './proccessed_data/gender/female/'\n",
    "# male_path = './proccessed_data/gender/male/'\n",
    "# wiki_path = './wiki_crop/'\n",
    "# for i, row in proccesed_data.iterrows():\n",
    "#     path = row['full_path'][0]\n",
    "#     name = path.replace('/', '_')\n",
    "#     old_path = wiki_path + path\n",
    "#     age = row['age']\n",
    "#     gender = row['gender']\n",
    "#     if gender == 0: # female\n",
    "#         new_path = female_path + name\n",
    "#     else: # male\n",
    "#         new_path = male_path + name\n",
    "#     copyfile(old_path, new_path)"
   ]
  },
  {
   "cell_type": "code",
   "execution_count": null,
   "metadata": {
    "collapsed": true
   },
   "outputs": [],
   "source": [
    "# Makes eqaly sized samples for males and females\n",
    "# To run again uncomment code below\n",
    "\n",
    "train_directory = './datasets/equal_data/gender/train/'\n",
    "valid_directory = './datasets/equal_data/gender/valid/'\n",
    "\n",
    "# creates directory if not there\n",
    "# Train:\n",
    "if not os.path.exists(train_directory + 'male'):\n",
    "    os.makedirs(train_directory + 'male')\n",
    "if not os.path.exists(train_directory + 'female'):\n",
    "    os.makedirs(train_directory + 'female')\n",
    "# Validate:\n",
    "if not os.path.exists(valid_directory + 'male'):\n",
    "    os.makedirs(valid_directory + 'male')\n",
    "if not os.path.exists(valid_directory + 'female'):\n",
    "    os.makedirs(valid_directory + 'female')\n",
    "    \n",
    "wiki_path = './datasets/raw/wiki_crop/wiki_crop/'\n",
    "\n",
    "num_male = int(sum(proccesed_data['gender']))\n",
    "num_female = len(proccesed_data) - num_male\n",
    "num_samples = min(num_female, num_male)\n",
    "\n",
    "female_samples = proccesed_data[proccesed_data['gender'] == 0]\n",
    "male_samples = proccesed_data[proccesed_data['gender'] == 1]\n",
    "\n",
    "valid_percent = 10\n",
    "\n",
    "train_female, val_female = female_samples[num_samples//valid_percent:num_samples], female_samples[:num_samples//valid_percent]\n",
    "train_male, val_male = male_samples[num_samples//valid_percent:num_samples], male_samples[:num_samples//valid_percent]\n",
    "\n",
    "def copy_data(data, gender, max_samples, origin_path, dest_path):\n",
    "    copied = 0\n",
    "    for _, row in data.iterrows():\n",
    "        if copied == max_samples:\n",
    "            break\n",
    "        path = row['full_path'][0]\n",
    "        name = path.replace('/', '_')\n",
    "        old_path = origin_path + path\n",
    "        new_path = dest_path + gender +'/' + name\n",
    "        copyfile(old_path, new_path)\n",
    "        copied += 1\n",
    "\n",
    "copy_data(train_female, 'female', num_samples, wiki_path, train_directory)\n",
    "copy_data(val_female, 'female', num_samples, wiki_path, valid_directory)\n",
    "copy_data(train_male, 'male', num_samples, wiki_path, train_directory)\n",
    "copy_data(val_male, 'male', num_samples, wiki_path, valid_directory)\n",
    "    \n",
    "\n",
    "    \n"
   ]
  },
  {
   "cell_type": "code",
   "execution_count": null,
   "metadata": {},
   "outputs": [],
   "source": []
  },
  {
   "cell_type": "code",
   "execution_count": null,
   "metadata": {
    "collapsed": true
   },
   "outputs": [],
   "source": []
  }
 ],
 "metadata": {
  "kernelspec": {
   "display_name": "Python 3",
   "language": "python",
   "name": "python3"
  },
  "language_info": {
   "codemirror_mode": {
    "name": "ipython",
    "version": 3
   },
   "file_extension": ".py",
   "mimetype": "text/x-python",
   "name": "python",
   "nbconvert_exporter": "python",
   "pygments_lexer": "ipython3",
   "version": "3.6.0"
  }
 },
 "nbformat": 4,
 "nbformat_minor": 2
}
